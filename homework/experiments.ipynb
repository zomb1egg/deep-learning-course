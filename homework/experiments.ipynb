{
 "cells": [
  {
   "cell_type": "code",
   "execution_count": 4,
   "metadata": {},
   "outputs": [
    {
     "name": "stderr",
     "output_type": "stream",
     "text": [
      "c:\\Python312\\Lib\\site-packages\\transformers\\tokenization_utils_base.py:1601: FutureWarning: `clean_up_tokenization_spaces` was not set. It will be set to `True` by default. This behavior will be depracted in transformers v4.45, and will be then set to `False` by default. For more details check this issue: https://github.com/huggingface/transformers/issues/31884\n",
      "  warnings.warn(\n",
      "Some weights of Wav2Vec2Model were not initialized from the model checkpoint at facebook/wav2vec2-base-960h and are newly initialized: ['wav2vec2.encoder.pos_conv_embed.conv.parametrizations.weight.original0', 'wav2vec2.encoder.pos_conv_embed.conv.parametrizations.weight.original1', 'wav2vec2.masked_spec_embed']\n",
      "You should probably TRAIN this model on a down-stream task to be able to use it for predictions and inference.\n"
     ]
    },
    {
     "name": "stdout",
     "output_type": "stream",
     "text": [
      "torch.Size([1, 99, 768])\n"
     ]
    },
    {
     "data": {
      "text/plain": [
       "tensor([[[-0.0079,  0.0363,  0.0387,  ..., -0.1087,  0.0985,  0.1024],\n",
       "         [-0.0591,  0.0440,  0.1532,  ..., -0.1396,  0.0625, -0.0112],\n",
       "         [-0.0589,  0.0424,  0.1566,  ..., -0.1438,  0.0590, -0.0139],\n",
       "         ...,\n",
       "         [-0.0586,  0.0425,  0.1561,  ..., -0.1444,  0.0589, -0.0135],\n",
       "         [-0.0587,  0.0423,  0.1566,  ..., -0.1446,  0.0586, -0.0139],\n",
       "         [-0.0587,  0.0423,  0.1566,  ..., -0.1446,  0.0586, -0.0139]]])"
      ]
     },
     "execution_count": 4,
     "metadata": {},
     "output_type": "execute_result"
    }
   ],
   "source": [
    "from transformers import Wav2Vec2Model, Wav2Vec2Processor\n",
    "import torch\n",
    "import torchaudio\n",
    "\n",
    "# Load pre-trained model\n",
    "processor = Wav2Vec2Processor.from_pretrained(\"facebook/wav2vec2-base-960h\")\n",
    "model = Wav2Vec2Model.from_pretrained(\"facebook/wav2vec2-base-960h\")\n",
    "\n",
    "# Load an audio file\n",
    "waveform, sample_rate = torchaudio.load(\"audio_file.wav\")\n",
    "\n",
    "# Resample if needed (should be 16kHz for wav2vec)\n",
    "if sample_rate != 16000:\n",
    "    resampler = torchaudio.transforms.Resample(orig_freq=sample_rate, new_freq=16000)\n",
    "    waveform = resampler(waveform)\n",
    "\n",
    "# Tokenize the waveform\n",
    "input_values = processor(waveform.squeeze(0), sampling_rate=16000, return_tensors=\"pt\").input_values\n",
    "\n",
    "# Get audio embeddings\n",
    "with torch.no_grad():\n",
    "    outputs = model(input_values).last_hidden_state\n",
    "print(outputs.shape)  # Example shape: (batch_size, sequence_length, hidden_dim)\n",
    "outputs"
   ]
  }
 ],
 "metadata": {
  "kernelspec": {
   "display_name": "Python 3",
   "language": "python",
   "name": "python3"
  },
  "language_info": {
   "codemirror_mode": {
    "name": "ipython",
    "version": 3
   },
   "file_extension": ".py",
   "mimetype": "text/x-python",
   "name": "python",
   "nbconvert_exporter": "python",
   "pygments_lexer": "ipython3",
   "version": "3.12.1"
  }
 },
 "nbformat": 4,
 "nbformat_minor": 2
}
