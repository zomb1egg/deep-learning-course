{
 "cells": [
  {
   "cell_type": "markdown",
   "id": "a121ed71-a872-4464-a8de-690eb44df7a8",
   "metadata": {},
   "source": [
    "## Homework #1: Prove the Gradients of the Sigmoid and Tanh Functions\n",
    "## 1. Sigmoid Function Gradient\n",
    "\n",
    "The sigmoid function is defined as: $\\ \\ \\sigma(x) = \\frac{1}{1 + e^{-x}}$\n",
    "\n",
    "- for later use, lets first expand $(1 - \\sigma(x))$: \n",
    "$$\n",
    "(1 - \\sigma(x)) = (1 - \\frac{1}{1 + e^{-x}}) = \\frac{1 + e^{-x} - 1}{1 + e^{-x}} =  \\textcolor{yellow}{\\frac{e^{-x}}{1+e^{-x}}}\n",
    "$$\n",
    "\n",
    "- Now, we shall show that the derivative of $\\sigma(x)$ can be expressed in terms of $\\sigma(x)$ itself:\n",
    "   \n",
    "$$\n",
    "\\frac{d\\sigma(x)}{dx} = \\frac{d}{dx}\\frac{1}{1 + e^{-x}} =  \\frac{e^{-x}}{(1+e^{-x})^2} = \\frac{1}{1 + e^{-x}}\\cdot\\textcolor{yellow}{\\frac{e^{-x}}{1+e^{-x}}} = \\sigma(x)(1 - \\sigma(x))\n",
    "$$\n",
    "\n",
    "### thus we have proven that: \n",
    "$$\n",
    "\\frac{d\\sigma(x)}{dx} = \\sigma(x)(1 - \\sigma(x))\n",
    "$$\n",
    "\n",
    "## 2. Tanh Function Gradient\n",
    "\n",
    "The hyperbolic tangent function is defined as: $\\ \\ \\tanh(x) = \\frac{e^x - e^{-x}}{e^x + e^{-x}}$\n",
    "\n",
    "- Lets Differentiate $\\tanh(x)$ with respect to $x$:\n",
    "$$\n",
    "\\frac{d\\tanh(x)}{dx} = \\frac{d}{dx}\\frac{e^x - e^{-x}}{e^x + e^{-x}} = \\frac{(e^x + e^{-x})\\cdot(e^x+e^{-x})-(e^x-e^{-x})\\cdot(e^x-e^{-x})}{(e^x + e^{-x})^2} = \\frac{(e^x + e^{-x})^2-(e^x-e^{-x})^2}{(e^x + e^{-x})^2} = \\\\ = \\textcolor{yellow}{\\frac{(e^x + e^{-x})^2}{(e^x + e^{-x})^2}}-\\frac{(e^x-e^{-x})^2}{(e^x + e^{-x})^2} \n",
    "$$\n",
    "thus we get that:\n",
    "$$\n",
    "\\frac{d\\tanh(x)}{dx} = \\textcolor{yellow}{1} - \\frac{(e^x-e^{-x})^2}{(e^x + e^{-x})^2} = 1 - \\tanh(x)^2\n",
    "$$\n"
   ]
  }
 ],
 "metadata": {
  "kernelspec": {
   "display_name": "Python 3 (ipykernel)",
   "language": "python",
   "name": "python3"
  },
  "language_info": {
   "codemirror_mode": {
    "name": "ipython",
    "version": 3
   },
   "file_extension": ".py",
   "mimetype": "text/x-python",
   "name": "python",
   "nbconvert_exporter": "python",
   "pygments_lexer": "ipython3",
   "version": "3.12.4"
  }
 },
 "nbformat": 4,
 "nbformat_minor": 5
}
